{
 "cells": [
  {
   "cell_type": "code",
   "execution_count": null,
   "metadata": {},
   "outputs": [],
   "source": [
    "import pymysql.cursors\n",
    "\n",
    "def main():\n",
    "    conn = pymysql.connect(\n",
    "        user='root',\n",
    "        passwd='password',#適宜自分で設定したパスワードに書き換えてください。\n",
    "        host='192.168.0.1',#接続先DBのホスト名或いはIPに書き換えてください。\n",
    "        db='world'\n",
    "    )\n",
    "    c = conn.cursor()\n",
    "\n",
    "    # テーブルの作成\n",
    "    sql = 'select * from city;'\n",
    "    c.execute(sql)\n",
    "    print('* cityテーブルの一覧を表示\\n')\n",
    "    for row in c.fetchall():\n",
    "        print('No:', row[0], 'Content:', row[1])\n",
    "\n",
    "main()"
   ]
  }
 ],
 "metadata": {
  "kernelspec": {
   "display_name": "Python 3",
   "language": "python",
   "name": "python3"
  },
  "language_info": {
   "codemirror_mode": {
    "name": "ipython",
    "version": 3
   },
   "file_extension": ".py",
   "mimetype": "text/x-python",
   "name": "python",
   "nbconvert_exporter": "python",
   "pygments_lexer": "ipython3",
   "version": "3.7.1"
  }
 },
 "nbformat": 4,
 "nbformat_minor": 4
}
