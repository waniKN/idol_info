{
 "cells": [
  {
   "cell_type": "markdown",
   "metadata": {},
   "source": [
    "# 銀イルカの3人のセリフをスクレイピングして，同じところと違うところを"
   ]
  },
  {
   "cell_type": "markdown",
   "metadata": {},
   "source": [
    "とりま wikiとかから智絵里のセリフをスクレイピングする． \n",
    "\n",
    "テキスト解析 -> 出現頻度，\n",
    "\n",
    "\n",
    "セリフをword2vecで学習して，分散表現を計算できるようにする\n",
    "\n",
    "分散表現を次元削減して2次元座標上にプロットすることで，単語ごとの類似度を可視化する"
   ]
  },
  {
   "cell_type": "markdown",
   "metadata": {},
   "source": [
    "銀イルカ3人のセリフをスクレイピング  \n",
    "\n",
    "doc2vecで学習して，"
   ]
  },
  {
   "cell_type": "code",
   "execution_count": 1,
   "metadata": {},
   "outputs": [
    {
     "name": "stderr",
     "output_type": "stream",
     "text": [
      "/home/wani/dere/idol_info/.venv/lib/python3.7/site-packages/pandas/compat/__init__.py:85: UserWarning: Could not import the lzma module. Your installed Python is incomplete. Attempting to use lzma compression will result in a RuntimeError.\n",
      "  warnings.warn(msg)\n",
      "/home/wani/dere/idol_info/.venv/lib/python3.7/site-packages/pandas/compat/__init__.py:85: UserWarning: Could not import the lzma module. Your installed Python is incomplete. Attempting to use lzma compression will result in a RuntimeError.\n",
      "  warnings.warn(msg)\n"
     ]
    }
   ],
   "source": [
    "import re\n",
    "import time\n",
    "import random\n",
    "import requests\n",
    "from bs4 import BeautifulSoup\n",
    "import pandas as pd"
   ]
  },
  {
   "cell_type": "code",
   "execution_count": 2,
   "metadata": {},
   "outputs": [],
   "source": [
    "pd.set_option(\"display.max_rows\", 1000)"
   ]
  },
  {
   "cell_type": "markdown",
   "metadata": {},
   "source": [
    "## デレステセリフのスクレイピング"
   ]
  },
  {
   "cell_type": "code",
   "execution_count": 3,
   "metadata": {},
   "outputs": [],
   "source": [
    "def get_quotes_sute(q):\n",
    "    \"\"\"\n",
    "    starlight.kirara.ca からデレステにおける，\n",
    "    各アイドルのセリフデータを取得する\n",
    "    [arg]\n",
    "    q: int\n",
    "    [ret]\n",
    "    df: DataFrame\n",
    "    \"\"\"\n",
    "    html = f\"https://starlight.kirara.ca/char/{q}\"\n",
    "    r = requests.get(html)\n",
    "    r.encoding = r.apparent_encoding\n",
    "    soup = BeautifulSoup(r.text, \"lxml\")\n",
    "    texts = soup.find_all(\"span\")\n",
    "    corpus = []\n",
    "    for text in texts:\n",
    "        corpus.append(text.text)\n",
    "    df = pd.DataFrame(corpus)\n",
    "    #df[0].value_counts().head(10) # 値の出現頻度をカウント\n",
    "    df = df[~df.duplicated()] # 重複行をdataframeから除外\n",
    "    df = df[~df[0].str.match(\"^[\\s|a-zA-Z|<|\\+|\\d$]\")] # 正規表現にマッチするものを除外\n",
    "    df = df[df[0] != \"\"]\n",
    "    return df.reset_index(drop=True)"
   ]
  },
  {
   "cell_type": "markdown",
   "metadata": {},
   "source": [
    "## モバマスセリフのスクレイピング"
   ]
  },
  {
   "cell_type": "code",
   "execution_count": 9,
   "metadata": {},
   "outputs": [],
   "source": [
    "def get_quotes_moba(query=\"緒方智絵里\", debug=False):\n",
    "    \"\"\"\n",
    "    icws.indego-bell.com からモバマスで公開されているセリフ（含 アイドル名、カード名 など）\n",
    "    をスクレイピングして pandas dataframe にする\n",
    "    \n",
    "    [args]\n",
    "    query: str 省略すると 緒方智絵里 のセリフをスクレイピングする\n",
    "    debug: Bool Trueにするとスクレイピング数を上限2にする。それだけ もっと良い使い方あるはず...\n",
    "    [ret]\n",
    "    df: DataFrame\n",
    "    \"\"\"\n",
    "    \n",
    "    html = f\"https://icws.indigo-bell.com/search?q={query}&st=n\"\n",
    "    r = requests.get(html)\n",
    "    r.encoding = r.apparent_encoding\n",
    "    soup = BeautifulSoup(r.text, \"lxml\")\n",
    "    a = soup.find(\"a\", string=\"Last　»\").get(\"href\")\n",
    "    if debug == True:\n",
    "        n = 2\n",
    "    else:\n",
    "        n = int(re.search(r\"page=(\\d+)&\", a).group(1)) # クロールするページ数\n",
    "    \n",
    "    df = pd.DataFrame()\n",
    "    for i in range(n): # セリフが登録されてるページ分ループする\n",
    "        print(f\"crawling page: {i + 1}/{n}\")\n",
    "        html = f\"https://icws.indigo-bell.com/search?page={i + 1}&q={query}&st=n\"\n",
    "        r = requests.get(html)\n",
    "        r.encoding = r.apparent_encoding\n",
    "        soup = BeautifulSoup(r.text, \"lxml\")\n",
    "        table = soup.find_all(\"tbody\",class_=\"result\")[0]\n",
    "        rows = table.find_all(\"tr\")\n",
    "        tmp = []\n",
    "        tm = 5 + random.randint(0, 5)\n",
    "\n",
    "        for row in rows:\n",
    "            cell_txt = []\n",
    "            for cell in row.find_all([\"td\", \"th\"]):\n",
    "                cell_txt.append(cell.text)\n",
    "            tmp.append(cell_txt)\n",
    "        df = df.append(tmp)\n",
    "        #print(f\"sleep: {tm}\")\n",
    "        if i != n:\n",
    "            time.sleep(tm)\n",
    "        else:\n",
    "            continue\n",
    "    return df.reset_index(drop=True) # indexを振り直してもとのindexも削除"
   ]
  },
  {
   "cell_type": "code",
   "execution_count": null,
   "metadata": {},
   "outputs": [],
   "source": [
    "# chieri : 112\n",
    "# minami : 185\n",
    "# yui    : 246\n",
    "# sae    : 132\n",
    "# hotaru : 161\n",
    "# yoshino: 262\n",
    "aa = get_quotes_sute(262)"
   ]
  },
  {
   "cell_type": "code",
   "execution_count": 15,
   "metadata": {},
   "outputs": [
    {
     "name": "stdout",
     "output_type": "stream",
     "text": [
      "crawling page: 1/2\n",
      "crawling page: 2/2\n"
     ]
    }
   ],
   "source": [
    "bb = get_quotes_moba(query=\"白菊ほたる\", debug=True)"
   ]
  },
  {
   "cell_type": "code",
   "execution_count": 13,
   "metadata": {},
   "outputs": [
    {
     "data": {
      "text/html": [
       "<div>\n",
       "<style scoped>\n",
       "    .dataframe tbody tr th:only-of-type {\n",
       "        vertical-align: middle;\n",
       "    }\n",
       "\n",
       "    .dataframe tbody tr th {\n",
       "        vertical-align: top;\n",
       "    }\n",
       "\n",
       "    .dataframe thead th {\n",
       "        text-align: right;\n",
       "    }\n",
       "</style>\n",
       "<table border=\"1\" class=\"dataframe\">\n",
       "  <thead>\n",
       "    <tr style=\"text-align: right;\">\n",
       "      <th></th>\n",
       "      <th>0</th>\n",
       "    </tr>\n",
       "  </thead>\n",
       "  <tbody>\n",
       "    <tr>\n",
       "      <th>4</th>\n",
       "      <td>アイドルマスター シンデレラガールズ スターライトステージ!</td>\n",
       "    </tr>\n",
       "    <tr>\n",
       "      <th>44</th>\n",
       "      <td>ずいぶんと遅い目覚めでしてー、今日のよき日は始まっていますよー</td>\n",
       "    </tr>\n",
       "    <tr>\n",
       "      <th>46</th>\n",
       "      <td>お昼でしてー。食はおのれを形作る大切な力ですよー</td>\n",
       "    </tr>\n",
       "    <tr>\n",
       "      <th>48</th>\n",
       "      <td>夜遅くまで精が出ますねー、わたくしもご一緒しましょうかー</td>\n",
       "    </tr>\n",
       "    <tr>\n",
       "      <th>50</th>\n",
       "      <td>光に満ちているのでしてーLIVEに行くのが吉でしょうー</td>\n",
       "    </tr>\n",
       "  </tbody>\n",
       "</table>\n",
       "</div>"
      ],
      "text/plain": [
       "                                  0\n",
       "4    アイドルマスター シンデレラガールズ スターライトステージ!\n",
       "44  ずいぶんと遅い目覚めでしてー、今日のよき日は始まっていますよー\n",
       "46         お昼でしてー。食はおのれを形作る大切な力ですよー\n",
       "48     夜遅くまで精が出ますねー、わたくしもご一緒しましょうかー\n",
       "50      光に満ちているのでしてーLIVEに行くのが吉でしょうー"
      ]
     },
     "execution_count": 13,
     "metadata": {},
     "output_type": "execute_result"
    }
   ],
   "source": [
    "aa.head()"
   ]
  },
  {
   "cell_type": "code",
   "execution_count": 19,
   "metadata": {},
   "outputs": [
    {
     "data": {
      "text/html": [
       "<div>\n",
       "<style scoped>\n",
       "    .dataframe tbody tr th:only-of-type {\n",
       "        vertical-align: middle;\n",
       "    }\n",
       "\n",
       "    .dataframe tbody tr th {\n",
       "        vertical-align: top;\n",
       "    }\n",
       "\n",
       "    .dataframe thead th {\n",
       "        text-align: right;\n",
       "    }\n",
       "</style>\n",
       "<table border=\"1\" class=\"dataframe\">\n",
       "  <thead>\n",
       "    <tr style=\"text-align: right;\">\n",
       "      <th></th>\n",
       "      <th>0</th>\n",
       "      <th>1</th>\n",
       "      <th>2</th>\n",
       "      <th>3</th>\n",
       "    </tr>\n",
       "  </thead>\n",
       "  <tbody>\n",
       "    <tr>\n",
       "      <th>0</th>\n",
       "      <td>白菊ほたる</td>\n",
       "      <td>白菊ほたる</td>\n",
       "      <td>アイドルコメント</td>\n",
       "      <td>は、はじめまして…白菊ほたるです。実は暗い話で申し訳ないのですが以前所属していたプロダクショ...</td>\n",
       "    </tr>\n",
       "    <tr>\n",
       "      <th>1</th>\n",
       "      <td>白菊ほたる</td>\n",
       "      <td>白菊ほたる</td>\n",
       "      <td>マイスタジオ</td>\n",
       "      <td>これで移籍は…何回目か…</td>\n",
       "    </tr>\n",
       "    <tr>\n",
       "      <th>2</th>\n",
       "      <td>白菊ほたる</td>\n",
       "      <td>白菊ほたる</td>\n",
       "      <td>マイスタジオ</td>\n",
       "      <td>私がいると…みんな不幸に…</td>\n",
       "    </tr>\n",
       "    <tr>\n",
       "      <th>3</th>\n",
       "      <td>白菊ほたる</td>\n",
       "      <td>白菊ほたる</td>\n",
       "      <td>マイスタジオ</td>\n",
       "      <td>すみません…すみません…!</td>\n",
       "    </tr>\n",
       "    <tr>\n",
       "      <th>4</th>\n",
       "      <td>白菊ほたる</td>\n",
       "      <td>白菊ほたる</td>\n",
       "      <td>マイスタジオ</td>\n",
       "      <td>あ…○○プロデューサーさん…足元に水たまりが……あっ</td>\n",
       "    </tr>\n",
       "  </tbody>\n",
       "</table>\n",
       "</div>"
      ],
      "text/plain": [
       "       0      1         2                                                  3\n",
       "0  白菊ほたる  白菊ほたる  アイドルコメント  は、はじめまして…白菊ほたるです。実は暗い話で申し訳ないのですが以前所属していたプロダクショ...\n",
       "1  白菊ほたる  白菊ほたる    マイスタジオ                                       これで移籍は…何回目か…\n",
       "2  白菊ほたる  白菊ほたる    マイスタジオ                                      私がいると…みんな不幸に…\n",
       "3  白菊ほたる  白菊ほたる    マイスタジオ                                      すみません…すみません…!\n",
       "4  白菊ほたる  白菊ほたる    マイスタジオ                         あ…○○プロデューサーさん…足元に水たまりが……あっ"
      ]
     },
     "execution_count": 19,
     "metadata": {},
     "output_type": "execute_result"
    }
   ],
   "source": [
    "bb.head()"
   ]
  },
  {
   "cell_type": "markdown",
   "metadata": {},
   "source": [
    "## 形態素解析"
   ]
  },
  {
   "cell_type": "markdown",
   "metadata": {},
   "source": [
    "mecabを使う。インストールしていなければめかぶをインストール\n",
    "\n",
    "neeologdまでインストールする手順はの参考は\n",
    "- [ubuntu 18.10 に mecab をインストール](https://qiita.com/ekzemplaro/items/c98c7f6698f130b55d53)\n",
    "- [WSLでMeCabとJupyter Notebookを動かす](https://qiita.com/hironobukawaguchi3/items/61a8664dd26c1da66880)"
   ]
  },
  {
   "cell_type": "code",
   "execution_count": null,
   "metadata": {},
   "outputs": [],
   "source": []
  }
 ],
 "metadata": {
  "kernelspec": {
   "display_name": "Python 3",
   "language": "python",
   "name": "python3"
  },
  "language_info": {
   "codemirror_mode": {
    "name": "ipython",
    "version": 3
   },
   "file_extension": ".py",
   "mimetype": "text/x-python",
   "name": "python",
   "nbconvert_exporter": "python",
   "pygments_lexer": "ipython3",
   "version": "3.7.1"
  }
 },
 "nbformat": 4,
 "nbformat_minor": 4
}
