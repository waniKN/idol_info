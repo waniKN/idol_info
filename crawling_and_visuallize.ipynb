{
 "cells": [
  {
   "cell_type": "markdown",
   "metadata": {},
   "source": [
    "# 銀イルカの3人のセリフをスクレイピングして，同じところと違うところを"
   ]
  },
  {
   "cell_type": "markdown",
   "metadata": {},
   "source": [
    "とりま wikiとかから智絵里のセリフをスクレイピングする． \n",
    "\n",
    "テキスト解析 -> 出現頻度，\n",
    "\n",
    "\n",
    "セリフをword2vecで学習して，分散表現を計算できるようにする\n",
    "\n",
    "分散表現を次元削減して2次元座標上にプロットすることで，単語ごとの類似度を可視化する"
   ]
  },
  {
   "cell_type": "markdown",
   "metadata": {},
   "source": [
    "銀イルカ3人のセリフをスクレイピング  \n",
    "\n",
    "doc2vecで学習して，"
   ]
  },
  {
   "cell_type": "markdown",
   "metadata": {},
   "source": [
    "### requirementis\n",
    "\n",
    "- python 3.7.1\n",
    "- pipenv\n",
    "- mecab\n",
    "    - ipa\n",
    "    - neologd\n",
    "    \n",
    "usage: `pipenv install`  \n",
    "python, pipenv, pyenv, mecabのインストール方法は省略"
   ]
  },
  {
   "cell_type": "code",
   "execution_count": 1,
   "metadata": {},
   "outputs": [],
   "source": [
    "import glob\n",
    "import re\n",
    "import time\n",
    "import random\n",
    "import requests\n",
    "from bs4 import BeautifulSoup\n",
    "import pandas as pd"
   ]
  },
  {
   "cell_type": "code",
   "execution_count": 2,
   "metadata": {},
   "outputs": [],
   "source": [
    "import MeCab"
   ]
  },
  {
   "cell_type": "code",
   "execution_count": 3,
   "metadata": {},
   "outputs": [],
   "source": [
    "from gensim import corpora, models"
   ]
  },
  {
   "cell_type": "code",
   "execution_count": 4,
   "metadata": {},
   "outputs": [],
   "source": [
    "from gensim.models import word2vec"
   ]
  },
  {
   "cell_type": "code",
   "execution_count": 5,
   "metadata": {},
   "outputs": [],
   "source": [
    "import matplotlib.pyplot as plt\n",
    "import numpy as np\n",
    "from matplotlib.font_manager import FontProperties"
   ]
  },
  {
   "cell_type": "code",
   "execution_count": 6,
   "metadata": {},
   "outputs": [],
   "source": [
    "import umap\n",
    "import matplotlib.cm as cm\n",
    "from scipy.sparse.csgraph import connected_components\n",
    "\n",
    "from sklearn.manifold import TSNE\n",
    "from pylab import rcParams\n",
    "import seaborn as sns\n",
    "sns.set()"
   ]
  },
  {
   "cell_type": "code",
   "execution_count": 7,
   "metadata": {},
   "outputs": [],
   "source": [
    "# graph関係\n",
    "rcParams['figure.figsize'] = 20, 12\n",
    "rcParams['font.size'] = 20\n",
    "rcParams[\"font.family\"] = \"IPAPGothic\""
   ]
  },
  {
   "cell_type": "code",
   "execution_count": 8,
   "metadata": {},
   "outputs": [],
   "source": [
    "# pandasの表示についてのオプション\n",
    "pd.options.display.max_rows = 500\n",
    "pd.options.display.max_columns = 20 "
   ]
  },
  {
   "cell_type": "markdown",
   "metadata": {},
   "source": [
    "## スクレイピング"
   ]
  },
  {
   "cell_type": "markdown",
   "metadata": {},
   "source": [
    "### アイドルの設定"
   ]
  },
  {
   "cell_type": "markdown",
   "metadata": {},
   "source": [
    "deresute id\n",
    "- chieri : 112\n",
    "- minami : 185\n",
    "- yui    : 246\n",
    "- sae    : 132\n",
    "- hotaru : 161\n",
    "- yoshino: 262"
   ]
  },
  {
   "cell_type": "code",
   "execution_count": 9,
   "metadata": {},
   "outputs": [],
   "source": [
    "# idol = [\"chieri\", \"112\", \"緒方智絵里\"]\n",
    "# idol = [\"yui\", \"246\", \"大槻唯\"]\n",
    "idol = [\"minami\", \"185\", \"新田美波\"]"
   ]
  },
  {
   "cell_type": "markdown",
   "metadata": {},
   "source": [
    "## デレステセリフのスクレイピング"
   ]
  },
  {
   "cell_type": "code",
   "execution_count": 10,
   "metadata": {},
   "outputs": [],
   "source": [
    "def get_quotes_sute(q):\n",
    "    \"\"\"\n",
    "    デレステで公開されている各アイドルのセリフデータを取得する\n",
    "    [arg]\n",
    "    q: int\n",
    "    [ret]\n",
    "    df: DataFrame\n",
    "    \"\"\"\n",
    "    html = f\"https://starlight.kirara.ca/char/{q}\"\n",
    "    r = requests.get(html)\n",
    "    r.encoding = r.apparent_encoding\n",
    "    soup = BeautifulSoup(r.text, \"lxml\")\n",
    "    texts = soup.find_all(\"span\")\n",
    "    corpus = []\n",
    "    for text in texts:\n",
    "        corpus.append(text.text)\n",
    "    df = pd.DataFrame(corpus)\n",
    "    #df[0].value_counts().head(10) # 値の出現頻度をカウント\n",
    "    df = df[~df.duplicated()] # 重複行をdataframeから除外\n",
    "    df = df[~df[0].str.match(\"^[\\s|a-zA-Z|<|\\+|\\d$]\")] # 正規表現にマッチするものを除外\n",
    "    df = df[df[0] != \"\"]\n",
    "    return df.reset_index(drop=True)"
   ]
  },
  {
   "cell_type": "markdown",
   "metadata": {},
   "source": [
    "## モバマスセリフのスクレイピング"
   ]
  },
  {
   "cell_type": "code",
   "execution_count": 11,
   "metadata": {},
   "outputs": [],
   "source": [
    "def get_quotes_moba(query=\"緒方智絵里\", debug=False):\n",
    "    \"\"\"\n",
    "    モバマスで公開されているセリフ（含 アイドル名、カード名 など）\n",
    "    をスクレイピングして pandas dataframe にする\n",
    "    \n",
    "    [args]\n",
    "    query: str 省略すると 緒方智絵里 のセリフをスクレイピングする\n",
    "    debug: Bool Trueにするとスクレイピング数を上限2にする。それだけ もっと良い使い方あるはず...\n",
    "    [ret]\n",
    "    df: DataFrame\n",
    "    \"\"\"\n",
    "    \n",
    "    html = f\"https://icws.indigo-bell.com/search?q={query}&st=n\"\n",
    "    r = requests.get(html)\n",
    "    r.encoding = r.apparent_encoding\n",
    "    soup = BeautifulSoup(r.text, \"lxml\")\n",
    "    a = soup.find(\"a\", string=\"Last　»\").get(\"href\")\n",
    "    if debug == True:\n",
    "        n = 2\n",
    "    else:\n",
    "        n = int(re.search(r\"page=(\\d+)&\", a).group(1)) # クロールするページ数\n",
    "    \n",
    "    df = pd.DataFrame()\n",
    "    for i in range(n): # セリフが登録されてるページ分ループする\n",
    "        print(f\"crawling page: {i + 1}/{n}\")\n",
    "        html = f\"https://icws.indigo-bell.com/search?page={i + 1}&q={query}&st=n\"\n",
    "        r = requests.get(html)\n",
    "        r.encoding = r.apparent_encoding\n",
    "        soup = BeautifulSoup(r.text, \"lxml\")\n",
    "        table = soup.find_all(\"tbody\",class_=\"result\")[0]\n",
    "        rows = table.find_all(\"tr\")\n",
    "        tmp = []\n",
    "        tm = 5 + random.randint(0, 5)\n",
    "\n",
    "        for row in rows:\n",
    "            cell_txt = []\n",
    "            for cell in row.find_all([\"td\", \"th\"]):\n",
    "                cell_txt.append(cell.text)\n",
    "            tmp.append(cell_txt)\n",
    "        df = df.append(tmp)\n",
    "        #print(f\"sleep: {tm}\")\n",
    "        if i != (n - 1):\n",
    "            time.sleep(tm)\n",
    "        else:\n",
    "            continue\n",
    "    return df.reset_index(drop=True) # indexを振り直してもとのindexも削除"
   ]
  },
  {
   "cell_type": "code",
   "execution_count": 12,
   "metadata": {},
   "outputs": [
    {
     "name": "stdout",
     "output_type": "stream",
     "text": [
      "aru\n"
     ]
    }
   ],
   "source": [
    "# data/に idol_moba.csv idol_dere.csvが両方なかったらスクレイピングを実行する\n",
    "# あったらdataframeにする\n",
    "if not glob.glob(f\"data/{idol[0]}_moba.csv\") and not glob.glob(f\"data/{idol[0]}_dere.csv\"):\n",
    "    print(\"nai\")\n",
    "    aa = get_quotes_sute(int(idol[1]))\n",
    "    bb = get_quotes_moba(query=idol[2])\n",
    "    aa.to_csv(f\"data/{idol[0]}_moba.csv\")\n",
    "    bb.to_csv(f\"data/{idol[0]}_dere.csv\")\n",
    "else:\n",
    "    print(\"aru\")\n",
    "    aa = pd.read_csv(f\"data/{idol[0]}_moba.csv\", index_col=0)\n",
    "    bb = pd.read_csv(f\"data/{idol[0]}_dere.csv\", index_col=0)"
   ]
  },
  {
   "cell_type": "code",
   "execution_count": 13,
   "metadata": {},
   "outputs": [
    {
     "data": {
      "text/html": [
       "<div>\n",
       "<style scoped>\n",
       "    .dataframe tbody tr th:only-of-type {\n",
       "        vertical-align: middle;\n",
       "    }\n",
       "\n",
       "    .dataframe tbody tr th {\n",
       "        vertical-align: top;\n",
       "    }\n",
       "\n",
       "    .dataframe thead th {\n",
       "        text-align: right;\n",
       "    }\n",
       "</style>\n",
       "<table border=\"1\" class=\"dataframe\">\n",
       "  <thead>\n",
       "    <tr style=\"text-align: right;\">\n",
       "      <th></th>\n",
       "      <th>0</th>\n",
       "    </tr>\n",
       "  </thead>\n",
       "  <tbody>\n",
       "    <tr>\n",
       "      <th>0</th>\n",
       "      <td>アイドルマスター シンデレラガールズ スターライトステージ!</td>\n",
       "    </tr>\n",
       "    <tr>\n",
       "      <th>1</th>\n",
       "      <td>おはようございます。あ、プロデューサーさん、スーツにホコリが</td>\n",
       "    </tr>\n",
       "    <tr>\n",
       "      <th>2</th>\n",
       "      <td>お昼ごはん、またコンビニ弁当ですか？今度お弁当作ってきましょうか</td>\n",
       "    </tr>\n",
       "    <tr>\n",
       "      <th>3</th>\n",
       "      <td>遅くまでごくろうさまです。私も負けずに頑張らなくちゃ !</td>\n",
       "    </tr>\n",
       "    <tr>\n",
       "      <th>4</th>\n",
       "      <td>何事も経験です ! プロデューサーさん、LIVEも経験ですね !</td>\n",
       "    </tr>\n",
       "    <tr>\n",
       "      <th>5</th>\n",
       "      <td>ちひろさんが呼んでいましたけど…何のご用でしょうね</td>\n",
       "    </tr>\n",
       "    <tr>\n",
       "      <th>6</th>\n",
       "      <td>プロデューサーさんに申請がきてるみたいです。誰からでしょう？</td>\n",
       "    </tr>\n",
       "    <tr>\n",
       "      <th>7</th>\n",
       "      <td>イベントやってるみたいですね。ぜひ、勉強させてください !</td>\n",
       "    </tr>\n",
       "    <tr>\n",
       "      <th>8</th>\n",
       "      <td>プレゼントが届いてるみたいです。なんでしょう？ワクワクしますね</td>\n",
       "    </tr>\n",
       "    <tr>\n",
       "      <th>9</th>\n",
       "      <td>プロデューサーさんも休憩かな？ふふっ、仕事ばかりでお疲れですよね</td>\n",
       "    </tr>\n",
       "  </tbody>\n",
       "</table>\n",
       "</div>"
      ],
      "text/plain": [
       "                                  0\n",
       "0    アイドルマスター シンデレラガールズ スターライトステージ!\n",
       "1    おはようございます。あ、プロデューサーさん、スーツにホコリが\n",
       "2  お昼ごはん、またコンビニ弁当ですか？今度お弁当作ってきましょうか\n",
       "3      遅くまでごくろうさまです。私も負けずに頑張らなくちゃ !\n",
       "4  何事も経験です ! プロデューサーさん、LIVEも経験ですね !\n",
       "5         ちひろさんが呼んでいましたけど…何のご用でしょうね\n",
       "6    プロデューサーさんに申請がきてるみたいです。誰からでしょう？\n",
       "7     イベントやってるみたいですね。ぜひ、勉強させてください !\n",
       "8   プレゼントが届いてるみたいです。なんでしょう？ワクワクしますね\n",
       "9  プロデューサーさんも休憩かな？ふふっ、仕事ばかりでお疲れですよね"
      ]
     },
     "execution_count": 13,
     "metadata": {},
     "output_type": "execute_result"
    }
   ],
   "source": [
    "aa.head(10)"
   ]
  },
  {
   "cell_type": "code",
   "execution_count": 14,
   "metadata": {},
   "outputs": [
    {
     "data": {
      "text/html": [
       "<div>\n",
       "<style scoped>\n",
       "    .dataframe tbody tr th:only-of-type {\n",
       "        vertical-align: middle;\n",
       "    }\n",
       "\n",
       "    .dataframe tbody tr th {\n",
       "        vertical-align: top;\n",
       "    }\n",
       "\n",
       "    .dataframe thead th {\n",
       "        text-align: right;\n",
       "    }\n",
       "</style>\n",
       "<table border=\"1\" class=\"dataframe\">\n",
       "  <thead>\n",
       "    <tr style=\"text-align: right;\">\n",
       "      <th></th>\n",
       "      <th>0</th>\n",
       "      <th>1</th>\n",
       "      <th>2</th>\n",
       "      <th>3</th>\n",
       "    </tr>\n",
       "  </thead>\n",
       "  <tbody>\n",
       "    <tr>\n",
       "      <th>0</th>\n",
       "      <td>新田美波</td>\n",
       "      <td>新田美波</td>\n",
       "      <td>アイドルコメント</td>\n",
       "      <td>ふふっ、私がアイドルなんてなんだかドキドキします。あ、でもアイドルになったら学業に響いたりし...</td>\n",
       "    </tr>\n",
       "    <tr>\n",
       "      <th>1</th>\n",
       "      <td>新田美波</td>\n",
       "      <td>新田美波</td>\n",
       "      <td>マイスタジオ</td>\n",
       "      <td>アイドルになるのも一つの勉強と思って、色々チャレンジしたいですね</td>\n",
       "    </tr>\n",
       "    <tr>\n",
       "      <th>2</th>\n",
       "      <td>新田美波</td>\n",
       "      <td>新田美波</td>\n",
       "      <td>マイスタジオ</td>\n",
       "      <td>家族にアイドル応援されちゃって</td>\n",
       "    </tr>\n",
       "    <tr>\n",
       "      <th>3</th>\n",
       "      <td>新田美波</td>\n",
       "      <td>新田美波</td>\n",
       "      <td>マイスタジオ</td>\n",
       "      <td>おはよう。今日も頑張ろうねっ!</td>\n",
       "    </tr>\n",
       "    <tr>\n",
       "      <th>4</th>\n",
       "      <td>新田美波</td>\n",
       "      <td>新田美波</td>\n",
       "      <td>マイスタジオ</td>\n",
       "      <td>勉強もスポーツも、大好きですっ</td>\n",
       "    </tr>\n",
       "    <tr>\n",
       "      <th>5</th>\n",
       "      <td>新田美波</td>\n",
       "      <td>新田美波</td>\n",
       "      <td>お仕事</td>\n",
       "      <td>皆さん、優しい方で嬉しいです</td>\n",
       "    </tr>\n",
       "    <tr>\n",
       "      <th>6</th>\n",
       "      <td>新田美波</td>\n",
       "      <td>新田美波</td>\n",
       "      <td>お仕事</td>\n",
       "      <td>プロデューサーさん、わたしもっといろんな仕事がしたいなぁ…?</td>\n",
       "    </tr>\n",
       "    <tr>\n",
       "      <th>7</th>\n",
       "      <td>新田美波</td>\n",
       "      <td>新田美波</td>\n",
       "      <td>お仕事</td>\n",
       "      <td>いろんなコト勉強してきますねっ</td>\n",
       "    </tr>\n",
       "    <tr>\n",
       "      <th>8</th>\n",
       "      <td>新田美波</td>\n",
       "      <td>新田美波</td>\n",
       "      <td>お仕事</td>\n",
       "      <td>ミスコンの審査より緊張しちゃう…</td>\n",
       "    </tr>\n",
       "    <tr>\n",
       "      <th>9</th>\n",
       "      <td>新田美波</td>\n",
       "      <td>新田美波</td>\n",
       "      <td>お仕事（親愛度UP）</td>\n",
       "      <td>アイドルって皆に愛されるお仕事なんですねっ、○○さん</td>\n",
       "    </tr>\n",
       "  </tbody>\n",
       "</table>\n",
       "</div>"
      ],
      "text/plain": [
       "      0     1           2                                                  3\n",
       "0  新田美波  新田美波    アイドルコメント  ふふっ、私がアイドルなんてなんだかドキドキします。あ、でもアイドルになったら学業に響いたりし...\n",
       "1  新田美波  新田美波      マイスタジオ                   アイドルになるのも一つの勉強と思って、色々チャレンジしたいですね\n",
       "2  新田美波  新田美波      マイスタジオ                                    家族にアイドル応援されちゃって\n",
       "3  新田美波  新田美波      マイスタジオ                                    おはよう。今日も頑張ろうねっ!\n",
       "4  新田美波  新田美波      マイスタジオ                                    勉強もスポーツも、大好きですっ\n",
       "5  新田美波  新田美波         お仕事                                     皆さん、優しい方で嬉しいです\n",
       "6  新田美波  新田美波         お仕事                     プロデューサーさん、わたしもっといろんな仕事がしたいなぁ…?\n",
       "7  新田美波  新田美波         お仕事                                    いろんなコト勉強してきますねっ\n",
       "8  新田美波  新田美波         お仕事                                   ミスコンの審査より緊張しちゃう…\n",
       "9  新田美波  新田美波  お仕事（親愛度UP）                         アイドルって皆に愛されるお仕事なんですねっ、○○さん"
      ]
     },
     "execution_count": 14,
     "metadata": {},
     "output_type": "execute_result"
    }
   ],
   "source": [
    "bb.head(10)"
   ]
  },
  {
   "cell_type": "markdown",
   "metadata": {},
   "source": [
    "## モバ，ステの結合と正規化"
   ]
  },
  {
   "cell_type": "code",
   "execution_count": 15,
   "metadata": {},
   "outputs": [
    {
     "name": "stderr",
     "output_type": "stream",
     "text": [
      "/home/wani/dere/idol_info/.venv/lib/python3.7/site-packages/ipykernel_launcher.py:5: DeprecationWarning: The default dtype for empty Series will be 'object' instead of 'float64' in a future version. Specify a dtype explicitly to silence this warning.\n",
      "  \"\"\"\n"
     ]
    }
   ],
   "source": [
    "# とてもしょーもない処理(intをわざわざstrとしてる)\n",
    "bb[\"3\"] = bb[\"3\"].str.replace(\"○○\", \"\") # OO (プロデューサー名)部分を落とす\n",
    "bb[\"3\"] = bb[\"3\"].str.replace(\"〇〇\", \"\") # OO (プロデューサー名)部分を落とす\n",
    "# aa + bb のコーパスを作る\n",
    "docs = pd.Series()\n",
    "docs = pd.concat([aa[\"0\"], bb[\"3\"]])\n",
    "docs = docs.str.replace(\"プロデューサー\", \"PRODUCER\")\n",
    "docs = docs.str.replace(\"[Producer]\", \"PRODUCER\", regex=False)\n",
    "docs = docs.reset_index(drop=True)"
   ]
  },
  {
   "cell_type": "code",
   "execution_count": 16,
   "metadata": {},
   "outputs": [],
   "source": [
    "docs.to_csv(f'data/{idol[0]}_corpus.csv')"
   ]
  },
  {
   "cell_type": "markdown",
   "metadata": {},
   "source": [
    "## 形態素解析"
   ]
  },
  {
   "cell_type": "markdown",
   "metadata": {},
   "source": [
    "mecabを使う。インストールしていなければめかぶをインストール\n",
    "\n",
    "neeologdまでインストールする手順はの参考は\n",
    "- [ubuntu 18.10 に mecab をインストール](https://qiita.com/ekzemplaro/items/c98c7f6698f130b55d53)\n",
    "- [WSLでMeCabとJupyter Notebookを動かす](https://qiita.com/hironobukawaguchi3/items/61a8664dd26c1da66880)\n",
    "- [MecabをPythonで使うまで](https://qiita.com/Sak1361/items/47e9ec464ccc770cd65c)\n",
    "\n",
    "---\n",
    "\n",
    "$ mecab -d /usr/lib/mecab/dic/mecab-ipadic-neologd\n",
    "\n",
    "\n",
    "wsl in ubuntu だとうまく動作しない可能性あり．"
   ]
  },
  {
   "cell_type": "code",
   "execution_count": 17,
   "metadata": {},
   "outputs": [],
   "source": [
    "mecab_path = !echo `mecab-config --dicdir`\n",
    "def extractNoun(text, mecab_mode = rf'-Owakati -d {mecab_path[0]}/mecab-ipadic-neologd', noun=\"名詞\"):\n",
    "    \"\"\"\n",
    "    [arg]: str\n",
    "    [ret]: str\n",
    "    \"\"\"\n",
    "    tagger = MeCab.Tagger(mecab_mode)\n",
    "    node = tagger.parseToNode(text)\n",
    "    keywords = []\n",
    "    while node:\n",
    "        surface = node.surface # 表層形を表示(str)\n",
    "        meta = node.feature.split(\",\") # ['記号', '読点', '*', '*', '*', '*', '、', '、', '、']\n",
    "        if meta[0] == noun:\n",
    "            keywords.append(node.surface)\n",
    "        node = node.next # 次のノードのアドレスを指定\n",
    "    return \" \".join(keywords)\n",
    "\n",
    "def tokenize(text, wakati=True, dic=\"neologd\"):\n",
    "    \"\"\"\n",
    "    テキストを形態素解析して分かち書きする\n",
    "    [arg]\n",
    "    text: str\n",
    "    [ret]\n",
    "    term: str\n",
    "    \"\"\"\n",
    "    if dic == \"neologd\":\n",
    "        mecab_mode = MeCab.Tagger(rf'-Owakati -d {mecab_path[0]}/mecab-ipadic-neologd') # debugging\n",
    "    else:\n",
    "        mecab_mode = MeCab.Tagger(r'-Owakati')\n",
    "    if wakati == True: # 分かち書きしたものをそのまま取り出す\n",
    "        term = mecab_mode.parse(text).strip()\n",
    "    else: # 品詞で\n",
    "        term = extractNoun(text, mecab_mode)\n",
    "    return term"
   ]
  },
  {
   "cell_type": "markdown",
   "metadata": {},
   "source": [
    "### mecabの動作チェック"
   ]
  },
  {
   "cell_type": "code",
   "execution_count": 18,
   "metadata": {},
   "outputs": [
    {
     "name": "stdout",
     "output_type": "stream",
     "text": [
      "テキスト 形態素解析 分かち書き\n"
     ]
    }
   ],
   "source": [
    "text = \"テキストを形態素解析して分かち書きする\"\n",
    "print(extractNoun(text))"
   ]
  },
  {
   "cell_type": "code",
   "execution_count": 19,
   "metadata": {},
   "outputs": [
    {
     "name": "stdout",
     "output_type": "stream",
     "text": [
      "ipa-dic    ： 特急 は く た か\n",
      "neologd-dic： 特急 はくたか\n"
     ]
    }
   ],
   "source": [
    "print(f'ipa-dic    ： {tokenize(\"特急はくたか\", dic = \"ipa\")}')\n",
    "print(f'neologd-dic： {tokenize(\"特急はくたか\")}')"
   ]
  },
  {
   "cell_type": "markdown",
   "metadata": {},
   "source": [
    "うまくうごいてそう"
   ]
  },
  {
   "cell_type": "markdown",
   "metadata": {},
   "source": [
    "## 文章解析"
   ]
  },
  {
   "cell_type": "code",
   "execution_count": 20,
   "metadata": {},
   "outputs": [],
   "source": [
    "docs_list = [extractNoun(row).split() for row in docs]\n",
    "dic = corpora.Dictionary(docs_list)\n",
    "dic.save_as_text(f'./data/{idol[0]}_text.dict')  # 保存"
   ]
  },
  {
   "cell_type": "code",
   "execution_count": 21,
   "metadata": {},
   "outputs": [],
   "source": [
    "#gensim.corpora.Dictionary.load_from_text(f'./data/{idol[0]}_text.dict')  # 次回からファイルロード可"
   ]
  },
  {
   "cell_type": "code",
   "execution_count": 22,
   "metadata": {},
   "outputs": [
    {
     "name": "stdout",
     "output_type": "stream",
     "text": [
      "2000\n"
     ]
    }
   ],
   "source": [
    "print(len(dic)) # dictionaryに登録された単語(形態素)数"
   ]
  },
  {
   "cell_type": "code",
   "execution_count": 23,
   "metadata": {},
   "outputs": [],
   "source": [
    "# 単語出現頻度を数える\n",
    "# 余談: bashだと $ sort -t$'\\t' -k3 -nr text.dict で単語とその出現頻度回数カウントできる\n",
    "from collections import defaultdict\n",
    "freq = defaultdict(int)\n",
    "\n",
    "for text in docs_list:\n",
    "    for token in text:\n",
    "        freq[token] += 1\n",
    "# print(sorted(freq.items(), key=lambda x:x[1], reverse=True)) # ソートされたterm freq\n",
    "sorted_tf = sorted(freq.items(), key=lambda x:x[1], reverse=True)"
   ]
  },
  {
   "cell_type": "code",
   "execution_count": 24,
   "metadata": {},
   "outputs": [],
   "source": [
    "i = 0\n",
    "size = 20\n",
    "graph_y_list = []\n",
    "graph_x_list = []\n",
    "for value, count in sorted_tf:\n",
    "    if(i < size):\n",
    "        graph_y_list.append(count)\n",
    "        graph_x_list.append(value)\n",
    "        i += 1"
   ]
  },
  {
   "cell_type": "code",
   "execution_count": 157,
   "metadata": {},
   "outputs": [
    {
     "data": {
      "image/png": "[encoded data removed]",
      "text/plain": [
       "<Figure size 432x288 with 1 Axes>"
      ]
     },
     "metadata": {
      "needs_background": "light"
     },
     "output_type": "display_data"
    }
   ],
   "source": [
    "# グラフのパラメータ\n",
    "plt.rcParams[\"font.family\"] = \"IPAPGothic\"\n",
    "plt.bar(height=graph_y_list, x=graph_x_list)\n",
    "plt.title(\"histgram\")\n",
    "plt.xlabel('term freq.')\n",
    "plt.ylabel('num of word')\n",
    "plt.xticks(graph_x_list, rotation='vertical')\n",
    "plt.grid(True, axis=\"y\")\n",
    "\n",
    "#グラフの表示\n",
    "plt.show()"
   ]
  },
  {
   "cell_type": "code",
   "execution_count": 26,
   "metadata": {},
   "outputs": [],
   "source": [
    "corpus = [dic.doc2bow(doc) for doc in docs_list] # コーパスの作成\n",
    "corpora.MmCorpus.serialize(f'./data/{idol[0]}_text.mm', corpus)  # 保存"
   ]
  },
  {
   "cell_type": "markdown",
   "metadata": {},
   "source": [
    "## word2vec モデルの作成"
   ]
  },
  {
   "cell_type": "markdown",
   "metadata": {},
   "source": [
    "word2vecモデルの学習を行う際にword2vec.Word2Vecに食わせる文書は一文ごとの2次元配列\n",
    "\n",
    "ex.\n",
    "\n",
    "print(tokeData)  \n",
    "[['4', '年', 'ぶり', 'ライナー'], ['エレン'], ['故郷']]"
   ]
  },
  {
   "cell_type": "code",
   "execution_count": 27,
   "metadata": {},
   "outputs": [],
   "source": [
    "# logging.basicConfig(format='%(asctime)s : %(levelname)s : %(message)s', level=logging.INFO)\n",
    "# sentences = word2vec.Text8Corpus(w2v_corpus)\n",
    "\n",
    "model = word2vec.Word2Vec(docs_list, size=300, min_count=2, window=15)\n",
    "model.save(f\"./data/{idol[0]}.w2v.model\")"
   ]
  },
  {
   "cell_type": "markdown",
   "metadata": {},
   "source": [
    "## 作成したword2vecモデルで単語の類似度を計算する"
   ]
  },
  {
   "cell_type": "code",
   "execution_count": 28,
   "metadata": {},
   "outputs": [
    {
     "name": "stdout",
     "output_type": "stream",
     "text": [
      "('杏', 0.999615490436554)\n",
      "('ん', 0.9995654225349426)\n",
      "('美波', 0.9995543956756592)\n",
      "('撮影', 0.9995523691177368)\n",
      "('さん', 0.9995327591896057)\n",
      "('みく', 0.999518871307373)\n",
      "('ー', 0.9995020627975464)\n",
      "('智香', 0.9995002746582031)\n",
      "('…。', 0.9994949102401733)\n",
      "('仁美', 0.9994781613349915)\n"
     ]
    }
   ],
   "source": [
    "model = word2vec.Word2Vec.load(f\"./data/{idol[0]}.w2v.model\")\n",
    "\n",
    "specword = \"PRODUCER\"\n",
    "\n",
    "for result in model.wv.most_similar(positive=specword):\n",
    "    print(result)"
   ]
  },
  {
   "cell_type": "code",
   "execution_count": 29,
   "metadata": {},
   "outputs": [
    {
     "name": "stdout",
     "output_type": "stream",
     "text": [
      "['杏', 'ん', '美波', '撮影', 'さん', 'みく', 'ー', '智香', '…。', '仁美', '志乃', 'プール', 'お仕事', '楽しみ', 'の', 'ちゃん', 'それ', '莉嘉', '世界', 'アタシ', '私', 'こと', '春', '次', '掃除', '自分', '李', 'ため', '今日', '人', '私たち', 'みんな', '衣菜', 'ふふ', 'みたい', 'そう', 'よう', '素敵', 'チャン', '気持ち', '楓', '心', 'アイドル', '気', '一緒に', '今', '桜', '一緒', 'もの', '経験', 'PRODUCER']\n"
     ]
    },
    {
     "name": "stderr",
     "output_type": "stream",
     "text": [
      "/home/wani/dere/idol_info/.venv/lib/python3.7/site-packages/ipykernel_launcher.py:1: DeprecationWarning: Call to deprecated `most_similar` (Method will be removed in 4.0.0, use self.wv.most_similar() instead).\n",
      "  \"\"\"Entry point for launching an IPython kernel.\n",
      "/home/wani/dere/idol_info/.venv/lib/python3.7/site-packages/ipykernel_launcher.py:6: DeprecationWarning: Call to deprecated `__getitem__` (Method will be removed in 4.0.0, use self.wv.__getitem__() instead).\n",
      "  \n"
     ]
    }
   ],
   "source": [
    "sim_words = [x[0] for x in model.most_similar(specword, topn=50)]\n",
    "sim_words.append(specword)\n",
    "labels = []\n",
    "vecs = []\n",
    "for word in sim_words:\n",
    "    vecs.append(model[word])\n",
    "    labels.append(word)\n",
    "\n",
    "print(labels)"
   ]
  },
  {
   "cell_type": "markdown",
   "metadata": {},
   "source": [
    "## 次元削減手法を使ってword2vecのベクトルを2次元空間上にプロットしてみる"
   ]
  },
  {
   "cell_type": "markdown",
   "metadata": {},
   "source": [
    "[ハンズオンUMAP, 学習する天然ニューラルネット - hatena blog](https://aotamasaki.hatenablog.com/entry/2018/07/28/220102)参考"
   ]
  },
  {
   "cell_type": "code",
   "execution_count": 158,
   "metadata": {},
   "outputs": [
    {
     "data": {
      "image/png": "[encoded data removed]",
      "text/plain": [
       "<Figure size 432x288 with 1 Axes>"
      ]
     },
     "metadata": {
      "needs_background": "light"
     },
     "output_type": "display_data"
    }
   ],
   "source": [
    "tsne = TSNE(random_state=428)\n",
    "result = tsne.fit_transform(vecs)\n",
    "\n",
    "plt.scatter(result[:,0], result[:,1], cmap=cm.tab10)\n",
    "\n",
    "for i in range(len(result)):\n",
    "    plt.annotate(labels[i],\n",
    "                 xy=(result[i, 0]+0.1, result[i, 1]+0.1),\n",
    "                 xytext=(0, 0),\n",
    "                 textcoords='offset points')"
   ]
  },
  {
   "cell_type": "code",
   "execution_count": 159,
   "metadata": {},
   "outputs": [
    {
     "data": {
      "image/png": "[encoded data removed]",
      "text/plain": [
       "<Figure size 432x288 with 1 Axes>"
      ]
     },
     "metadata": {
      "needs_background": "light"
     },
     "output_type": "display_data"
    }
   ],
   "source": [
    "embedding = umap.UMAP().fit_transform(vecs)\n",
    "\n",
    "plt.scatter(embedding[:,0], embedding[:,1], cmap=cm.tab10)\n",
    "\n",
    "for i in range(len(embedding)):\n",
    "    plt.annotate(labels[i],\n",
    "                 xy=(embedding[i, 0]+0.1, embedding[i, 1]+0.1),\n",
    "                 xytext=(0, 0),\n",
    "                 textcoords='offset points')"
   ]
  },
  {
   "cell_type": "markdown",
   "metadata": {},
   "source": [
    "## 智絵里，唯，美波のボイスにラベル付けしてword2vecを作成し，空間を2次元に圧縮して可視化"
   ]
  },
  {
   "cell_type": "markdown",
   "metadata": {},
   "source": [
    "智絵里，唯，美波のボイスをすべて結合 -> 結合したコーパスを使用してword2vecモデルを学習させる -> key = PRODUCERにして各単語の分布を計算"
   ]
  },
  {
   "cell_type": "code",
   "execution_count": 36,
   "metadata": {},
   "outputs": [],
   "source": [
    "chieri_corpus = pd.read_csv(f\"data/chieri_corpus.csv\", index_col=0)\n",
    "yui_corpus = pd.read_csv(f\"data/yui_corpus.csv\", index_col=0)\n",
    "minami_corpus = pd.read_csv(f\"data/minami_corpus.csv\", index_col=0)"
   ]
  },
  {
   "cell_type": "code",
   "execution_count": 55,
   "metadata": {},
   "outputs": [],
   "source": [
    "concat_corpus = pd.concat([chieri_corpus, yui_corpus, minami_corpus])\n",
    "concat_corpus = concat_corpus.reset_index(drop=True)\n",
    "concat_corpus = concat_corpus[\"0\"]"
   ]
  },
  {
   "cell_type": "code",
   "execution_count": 56,
   "metadata": {},
   "outputs": [
    {
     "data": {
      "text/plain": [
       "0                          アイドルマスター シンデレラガールズ スターライトステージ!\n",
       "1                       お、おはようございます。アーリーモーニングティー、いかがですか…？\n",
       "2                       お昼だけど…もうちょっとだけ…午後のレッスンの予習をしなくっちゃ…\n",
       "3                       ふぁぁ…こんな時間までお疲れさまです。ホットミルク、飲みますか…？\n",
       "4                       PRODUCERさん…もしお暇なら、私…ステージに、立ちたい…です\n",
       "                              ...                        \n",
       "4532    あはっ、さんに選んでもらえるなんて嬉しいです♪あ、ちなみに以前大学のミスコンでは優勝出来たん...\n",
       "4533                                             さん、こんばんは\n",
       "4534    いつもクリスマスは友人や家族とパーティーをするんです。でも、今年はちょっとだけ、特別な夜にな...\n",
       "4535    いつもパパや弟にあげてるんですけど…今年はさんにも渡します。それに…ちょっとだけ特別なチョコ...\n",
       "4536    ミスコンの一票とは比べ物にならないくらい、さんの一票が、嬉しいです。ありがとうございます、ふふっ♪\n",
       "Name: 0, Length: 4537, dtype: object"
      ]
     },
     "execution_count": 56,
     "metadata": {},
     "output_type": "execute_result"
    }
   ],
   "source": [
    "concat_corpus"
   ]
  },
  {
   "cell_type": "code",
   "execution_count": 57,
   "metadata": {},
   "outputs": [],
   "source": [
    "docs_list = [extractNoun(row).split() for row in concat_corpus]\n",
    "dic = corpora.Dictionary(docs_list)\n",
    "dic.save_as_text(f'./data/corpus_text.dict')  # 保存"
   ]
  },
  {
   "cell_type": "code",
   "execution_count": 160,
   "metadata": {},
   "outputs": [
    {
     "data": {
      "image/png": "[encoded data removed]",
      "text/plain": [
       "<Figure size 432x288 with 1 Axes>"
      ]
     },
     "metadata": {
      "needs_background": "light"
     },
     "output_type": "display_data"
    }
   ],
   "source": [
    "freq = defaultdict(int)\n",
    "\n",
    "for text in docs_list:\n",
    "    for token in text:\n",
    "        freq[token] += 1\n",
    "# print(sorted(freq.items(), key=lambda x:x[1], reverse=True)) # ソートされたterm freq\n",
    "sorted_tf = sorted(freq.items(), key=lambda x:x[1], reverse=True)\n",
    "\n",
    "i = 0\n",
    "size = 20\n",
    "graph_y_list = []\n",
    "graph_x_list = []\n",
    "for value, count in sorted_tf:\n",
    "    if(i < size):\n",
    "        graph_y_list.append(count)\n",
    "        graph_x_list.append(value)\n",
    "        i += 1\n",
    "\n",
    "# グラフのパラメータ\n",
    "plt.rcParams[\"font.family\"] = \"IPAPGothic\"\n",
    "plt.bar(height=graph_y_list, x=graph_x_list)\n",
    "plt.title(\"histgram\")\n",
    "plt.xlabel('term freq.')\n",
    "plt.ylabel('num of word')\n",
    "plt.xticks(graph_x_list, rotation='vertical')\n",
    "plt.grid(True, axis=\"y\")\n",
    "\n",
    "#グラフの表示\n",
    "plt.show()"
   ]
  },
  {
   "cell_type": "code",
   "execution_count": 72,
   "metadata": {},
   "outputs": [],
   "source": [
    "exp = \"3idols\"\n",
    "model = word2vec.Word2Vec(docs_list, size=300, min_count=5, window=15)\n",
    "model.save(f\"./data/{exp}.w2v.model\")"
   ]
  },
  {
   "cell_type": "code",
   "execution_count": 85,
   "metadata": {},
   "outputs": [
    {
     "name": "stdout",
     "output_type": "stream",
     "text": [
      "('ん', 0.9999815225601196)\n",
      "('…。', 0.9999797344207764)\n",
      "('の', 0.9999788403511047)\n",
      "('ちゃん', 0.9999786615371704)\n",
      "('それ', 0.9999785423278809)\n",
      "('智絵里', 0.9999784231185913)\n",
      "('撮影', 0.9999769926071167)\n",
      "('唯', 0.9999769330024719)\n",
      "('ー', 0.9999765157699585)\n",
      "('みんな', 0.9999759793281555)\n"
     ]
    }
   ],
   "source": [
    "model = word2vec.Word2Vec.load(f\"./data/{exp}.w2v.model\")\n",
    "\n",
    "specword = \"PRODUCER\"\n",
    "\n",
    "for result in model.wv.most_similar(positive=specword):\n",
    "    print(result)"
   ]
  },
  {
   "cell_type": "code",
   "execution_count": 150,
   "metadata": {},
   "outputs": [
    {
     "name": "stdout",
     "output_type": "stream",
     "text": [
      "['ん', 'の', '…。', 'さん', '唯', 'みんな', '私たち', 'PRODUCER', '感じ', '撮影', 'ちゃん', 'たち', '今日', '楽しみ', 'ー', '菜々', '私', 'こと', 'それ', '素敵', '美波', 'あと', 'ゆいの', '一緒に', '夏', 'もの', 'アタシ', 'よう', 'みたい', '大丈夫', '智絵里']\n"
     ]
    },
    {
     "name": "stderr",
     "output_type": "stream",
     "text": [
      "/home/wani/dere/idol_info/.venv/lib/python3.7/site-packages/ipykernel_launcher.py:2: DeprecationWarning: Call to deprecated `most_similar` (Method will be removed in 4.0.0, use self.wv.most_similar() instead).\n",
      "  \n",
      "/home/wani/dere/idol_info/.venv/lib/python3.7/site-packages/ipykernel_launcher.py:8: DeprecationWarning: Call to deprecated `__getitem__` (Method will be removed in 4.0.0, use self.wv.__getitem__() instead).\n",
      "  \n"
     ]
    }
   ],
   "source": [
    "specword = \"智絵里\"\n",
    "sim_words = [x[0] for x in model.most_similar(specword, topn=30)]\n",
    "# sim_words = [x[0] for x in model.most_similar(specword, topn=50)]\n",
    "sim_words.append(specword)\n",
    "labels = []\n",
    "vecs = []\n",
    "for word in sim_words:\n",
    "    vecs.append(model[word])\n",
    "    labels.append(word)\n",
    "\n",
    "print(labels)"
   ]
  },
  {
   "cell_type": "code",
   "execution_count": 161,
   "metadata": {},
   "outputs": [
    {
     "data": {
      "image/png": "[encoded data removed]",
      "text/plain": [
       "<Figure size 432x288 with 1 Axes>"
      ]
     },
     "metadata": {
      "needs_background": "light"
     },
     "output_type": "display_data"
    }
   ],
   "source": [
    "tsne = TSNE(random_state=428)\n",
    "result = tsne.fit_transform(vecs)\n",
    "\n",
    "plt.scatter(result[:,0], result[:,1], cmap=cm.tab10)\n",
    "\n",
    "for i in range(len(result)):\n",
    "    plt.annotate(labels[i],\n",
    "                 xy=(result[i, 0]+0.1, result[i, 1]+0.1),\n",
    "                 xytext=(0, 0),\n",
    "                 textcoords='offset points')"
   ]
  },
  {
   "cell_type": "code",
   "execution_count": 162,
   "metadata": {},
   "outputs": [
    {
     "name": "stderr",
     "output_type": "stream",
     "text": [
      "/home/wani/dere/idol_info/.venv/lib/python3.7/site-packages/umap/spectral.py:229: UserWarning: Embedding a total of 2 separate connected components using meta-embedding (experimental)\n",
      "  n_components\n"
     ]
    },
    {
     "data": {
      "image/png": "[encoded data removed]",
      "text/plain": [
       "<Figure size 432x288 with 1 Axes>"
      ]
     },
     "metadata": {
      "needs_background": "light"
     },
     "output_type": "display_data"
    }
   ],
   "source": [
    "embedding = umap.UMAP(n_neighbors=5, random_state=428).fit_transform(vecs)\n",
    "\n",
    "plt.scatter(embedding[:,0], embedding[:,1], cmap=cm.tab10)\n",
    "\n",
    "for i in range(len(embedding)):\n",
    "    plt.annotate(labels[i],\n",
    "                 xy=(embedding[i, 0]+0.5, embedding[i, 1]+0.1),\n",
    "                 xytext=(0, 0),\n",
    "                 textcoords='offset points')"
   ]
  },
  {
   "cell_type": "markdown",
   "metadata": {},
   "source": [
    "---"
   ]
  },
  {
   "cell_type": "markdown",
   "metadata": {},
   "source": [
    "## TF-IDFの計算とLDAの計算"
   ]
  },
  {
   "cell_type": "code",
   "execution_count": 32,
   "metadata": {},
   "outputs": [],
   "source": [
    "tfidf = models.TfidfModel(corpus)\n",
    "corpus_tfidf = tfidf[corpus]\n",
    "\n",
    "# 折角計算したのでpickleに保存\n",
    "import pickle\n",
    "with open(f'./data/corpus_tfidf.dump', mode='wb') as f:\n",
    "    pickle.dump(corpus_tfidf, f)\n",
    "\n",
    "# 次回からはロードできます\n",
    "# with open('./data/corpus_tfidf.dump', mode='rb') as f:\n",
    "#     corpus_tfidf = pickle.load(f)"
   ]
  },
  {
   "cell_type": "code",
   "execution_count": 33,
   "metadata": {},
   "outputs": [],
   "source": [
    "# 文書量にもよりますが、数時間程度かかったりもします。\n",
    "# '18/12/03追記: LdaMulticore で worker の数を増やせばかなり早くなるかもです\n",
    "lda = models.LdaModel(corpus=corpus_tfidf, id2word=dic,\n",
    "                             num_topics=50, minimum_probability=0.001,\n",
    "                             passes=20, update_every=0, chunksize=10000)\n",
    "lda.save('./data/lda.model')  # 保存\n",
    "#lda = gensim.models.LdaModel.load('./data/lda.model')  # 次回からロード可"
   ]
  },
  {
   "cell_type": "code",
   "execution_count": 34,
   "metadata": {},
   "outputs": [
    {
     "data": {
      "text/plain": [
       "'0.178*\"よう\" + 0.052*\"場所\" + 0.034*\"そ\" + 0.030*\"ー\" + 0.027*\"指導\" + 0.026*\"たち\" + 0.020*\"オフ\" + 0.020*\"みりあ\" + 0.015*\"こっち\" + 0.010*\"サントリーニ島\"'"
      ]
     },
     "execution_count": 34,
     "metadata": {},
     "output_type": "execute_result"
    }
   ],
   "source": [
    "lda.print_topic(10)"
   ]
  },
  {
   "cell_type": "code",
   "execution_count": 35,
   "metadata": {},
   "outputs": [
    {
     "name": "stdout",
     "output_type": "stream",
     "text": [
      "tpc_0: 0.095*\"日\" + 0.050*\"太陽\" + 0.030*\"夜\" + 0.028*\"祝福\" + 0.026*\"月\" + 0.016*\"月明かり\" + 0.013*\"優しさ\" + 0.009*\"の\" + 0.008*\"こと\" + 0.007*\"おおげさ\"\n",
      "tpc_1: 0.000*\"新年\" + 0.000*\"屋台\" + 0.000*\"お口\" + 0.000*\"お雑煮\" + 0.000*\"いっしょ\" + 0.000*\"縁起\" + 0.000*\"この間\" + 0.000*\"個人的\" + 0.000*\"ベビーカステラ\" + 0.000*\"あめ\"\n",
      "tpc_2: 0.086*\"ステージ\" + 0.036*\"せい\" + 0.030*\"曲\" + 0.029*\"すこし\" + 0.028*\"一瞬\" + 0.027*\"撮影\" + 0.025*\"ハード\" + 0.021*\"ひとり\" + 0.018*\"ポーズ\" + 0.013*\"昨日\"\n",
      "tpc_3: 0.081*\"露出\" + 0.068*\"スポーツ\" + 0.034*\"クイズ\" + 0.020*\"役\" + 0.014*\"タイプ\" + 0.013*\"シーン\" + 0.011*\"演技\" + 0.011*\"場面\" + 0.009*\"アイドル\" + 0.008*\"コーナー\"\n",
      "tpc_4: 0.154*\"気\" + 0.096*\"心\" + 0.056*\"波\" + 0.035*\"不思議\" + 0.028*\"久しぶり\" + 0.026*\"景色\" + 0.022*\"音\" + 0.020*\"豊か\" + 0.004*\"自分\" + 0.000*\"あめ\"\n",
      "tpc_5: 0.096*\"綺麗\" + 0.065*\"言葉\" + 0.053*\"わけ\" + 0.040*\"お姉さん\" + 0.027*\"静か\" + 0.017*\"スタッフ\" + 0.015*\"子供\" + 0.007*\"ポジション\" + 0.006*\"ラッピング\" + 0.006*\"ドール\"\n",
      "tpc_6: 0.086*\"体\" + 0.062*\"期待\" + 0.014*\"無理\" + 0.013*\"形\" + 0.010*\"した\" + 0.009*\"一杯\" + 0.007*\"ホットチョコレート\" + 0.006*\"チョコレート\" + 0.006*\"さん\" + 0.004*\"安心してください\"\n",
      "tpc_7: 0.105*\"パパ\" + 0.086*\"とき\" + 0.072*\"コト\" + 0.062*\"胸\" + 0.059*\"弟\" + 0.037*\"はさん\" + 0.025*\"ん\" + 0.014*\"チョコ\" + 0.011*\"挨拶\" + 0.011*\"簡単\"\n",
      "tpc_8: 0.047*\"プール\" + 0.046*\"力\" + 0.043*\"朝\" + 0.037*\"気分\" + 0.037*\"色\" + 0.033*\"空\" + 0.032*\"全力\" + 0.030*\"自由\" + 0.027*\"闇\" + 0.024*\"綺麗\"\n",
      "tpc_9: 0.111*\"気持ち\" + 0.090*\"みなみ\" + 0.078*\"笑顔\" + 0.056*\"大切\" + 0.042*\"挑戦\" + 0.025*\"こと\" + 0.021*\"乙女\" + 0.020*\"演技\" + 0.017*\"ちゃん\" + 0.017*\"みんな\"\n"
     ]
    }
   ],
   "source": [
    "for i in range(10):\n",
    "    print('tpc_{0}: {1}'.format(i, lda.print_topic(i)))"
   ]
  }
 ],
 "metadata": {
  "kernelspec": {
   "display_name": "Python 3",
   "language": "python",
   "name": "python3"
  },
  "language_info": {
   "codemirror_mode": {
    "name": "ipython",
    "version": 3
   },
   "file_extension": ".py",
   "mimetype": "text/x-python",
   "name": "python",
   "nbconvert_exporter": "python",
   "pygments_lexer": "ipython3",
   "version": "3.7.1"
  }
 },
 "nbformat": 4,
 "nbformat_minor": 4
}
